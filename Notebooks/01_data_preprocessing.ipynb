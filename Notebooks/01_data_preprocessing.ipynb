{
 "cells": [
  {
   "cell_type": "markdown",
   "id": "c0cab24c",
   "metadata": {},
   "source": [
    "# 01 – Data Preprocessing: Weather and Solar Data\n",
    "\n",
    "## Objective\n",
    "Prepare a clean, aggregated dataset of daily national weather metrics for use in solar generation prediction.\n",
    "\n",
    "> **Note:** Since aggregated national-level weather data for Ireland is not publicly available, this project manually constructs a representative national dataset by averaging data from **nine strategically selected weather stations**. These stations are geographically distributed across the Republic of Ireland in a grid-like pattern to ensure balanced regional coverage.\n"
   ]
  },
  {
   "cell_type": "markdown",
   "id": "bcb51e69",
   "metadata": {},
   "source": [
    "## 1: Load Raw Station Data\n",
    "\n",
    "- Load 9 weather station files from `Solarcast/Data/All_Weather_Stations/`\n",
    "- Preview shape and content to check for structure consistency\n"
   ]
  },
  {
   "cell_type": "code",
   "execution_count": 1,
   "id": "0a3abb99",
   "metadata": {},
   "outputs": [],
   "source": [
    "import pandas as pd\n",
    "import glob\n",
    "\n",
    "csv_files = glob.glob(\"Solarcast/Data/All_Weather_Stations/*.csv\") \n",
    "station_dfs = []\n",
    "\n",
    "for file in csv_files:\n",
    "    df = pd.read_csv(file)\n",
    "    print(f\"{file} → {df.shape}\")\n",
    "    station_dfs.append(df)"
   ]
  },
  {
   "cell_type": "markdown",
   "id": "96f090f3",
   "metadata": {},
   "source": [
    "## 2: Standardise & Clean Columns\n",
    "- Ensure uniform column names: date, rain, maxtp, mintp, cbl, glorad\n",
    "- Parse dates correctly\n",
    "- Handle missing or invalid entries"
   ]
  },
  {
   "cell_type": "markdown",
   "id": "85b40f87",
   "metadata": {},
   "source": [
    "## 3: Merge Stations by Date\n",
    "- Outer join all stations on date\n",
    "- Average numeric columns across all stations"
   ]
  },
  {
   "cell_type": "markdown",
   "id": "18e469ac",
   "metadata": {},
   "source": [
    "## 4: Export Aggregated Data\n",
    "- Save result as aggregated_weather_2024.csv in /cleaned_data/  would it be best praxtice to have each as a seperate mark up before the code sections or all together at the beginning "
   ]
  }
 ],
 "metadata": {
  "kernelspec": {
   "display_name": "Python (solarcast-venv)",
   "language": "python",
   "name": "solarcast-venv"
  },
  "language_info": {
   "codemirror_mode": {
    "name": "ipython",
    "version": 3
   },
   "file_extension": ".py",
   "mimetype": "text/x-python",
   "name": "python",
   "nbconvert_exporter": "python",
   "pygments_lexer": "ipython3",
   "version": "3.13.5"
  }
 },
 "nbformat": 4,
 "nbformat_minor": 5
}
