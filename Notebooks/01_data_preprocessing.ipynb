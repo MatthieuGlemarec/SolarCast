{
 "cells": [
  {
   "cell_type": "markdown",
   "id": "c0cab24c",
   "metadata": {},
   "source": [
    "# 01 – Data Preprocessing: Weather and Solar Data\n",
    "\n",
    "# Objective\n",
    "Prepare a clean, aggregated dataset of daily national weather metrics for use in solar generation prediction.\n",
    "\n",
    "> **Note:** Since aggregated national-level weather data for Ireland is not publicly available, this project manually constructs a representative national dataset by averaging data from **nine strategically selected weather stations**. These stations are geographically distributed across the Republic of Ireland in a grid-like pattern to ensure balanced regional coverage.\n"
   ]
  },
  {
   "cell_type": "markdown",
   "id": "bcb51e69",
   "metadata": {},
   "source": [
    "# 1: Load Raw Station Data\n",
    "\n",
    "- Load 9 weather station files from `Solarcast/Data/All_Weather_Stations/`\n",
    "- Preview shape and content to check for structure consistency\n"
   ]
  },
  {
   "cell_type": "code",
   "execution_count": 1,
   "id": "0a3abb99",
   "metadata": {},
   "outputs": [
    {
     "ename": "ModuleNotFoundError",
     "evalue": "No module named 'pandas'",
     "output_type": "error",
     "traceback": [
      "\u001b[31m---------------------------------------------------------------------------\u001b[39m",
      "\u001b[31mModuleNotFoundError\u001b[39m                       Traceback (most recent call last)",
      "\u001b[36mCell\u001b[39m\u001b[36m \u001b[39m\u001b[32mIn[1]\u001b[39m\u001b[32m, line 1\u001b[39m\n\u001b[32m----> \u001b[39m\u001b[32m1\u001b[39m \u001b[38;5;28;01mimport\u001b[39;00m\u001b[38;5;250m \u001b[39m\u001b[34;01mpandas\u001b[39;00m\u001b[38;5;250m \u001b[39m\u001b[38;5;28;01mas\u001b[39;00m\u001b[38;5;250m \u001b[39m\u001b[34;01mpd\u001b[39;00m\n\u001b[32m      2\u001b[39m \u001b[38;5;28;01mimport\u001b[39;00m\u001b[38;5;250m \u001b[39m\u001b[34;01mglob\u001b[39;00m\n\u001b[32m      4\u001b[39m csv_files = glob.glob(\u001b[33m\"\u001b[39m\u001b[33mSolarcast/Data/All_Weather_Stations/*.csv\u001b[39m\u001b[33m\"\u001b[39m) \n",
      "\u001b[31mModuleNotFoundError\u001b[39m: No module named 'pandas'"
     ]
    }
   ],
   "source": [
    "import pandas as pd\n",
    "import glob\n",
    "\n",
    "csv_files = glob.glob(\"Solarcast/Data/All_Weather_Stations/*.csv\") \n",
    "station_dfs = []\n",
    "\n",
    "for file in csv_files:\n",
    "    df = pd.read_csv(file)\n",
    "    print(f\"{file} → {df.shape}\")\n",
    "    station_dfs.append(df)"
   ]
  }
 ],
 "metadata": {
  "kernelspec": {
   "display_name": "base",
   "language": "python",
   "name": "python3"
  },
  "language_info": {
   "codemirror_mode": {
    "name": "ipython",
    "version": 3
   },
   "file_extension": ".py",
   "mimetype": "text/x-python",
   "name": "python",
   "nbconvert_exporter": "python",
   "pygments_lexer": "ipython3",
   "version": "3.13.2"
  }
 },
 "nbformat": 4,
 "nbformat_minor": 5
}
