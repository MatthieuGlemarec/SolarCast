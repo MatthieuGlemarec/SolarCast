{
 "cells": [
  {
   "cell_type": "markdown",
   "id": "9dc7fca3",
   "metadata": {},
   "source": [
    "# 02 - Exploratory Data Analysis (EDA)\n",
    "\n",
    "### Objective\n",
    "This notebook explores the cleaned and merged dataset containing daily weather parameters and corresponding solar energy generation for Ireland in 2024.  \n",
    "The goal is to understand the data's structure, identify trends and patterns, and uncover relationships between variables that can inform modeling strategy.\n",
    "\n",
    "---\n",
    "\n",
    "### Key Steps\n",
    "\n",
    "**Dataset Overview**\n",
    "   - Use `pandas` to inspect data shape, column types, missing values, and summary statistics.\n",
    "   - Examine basic distributions of key variables like `solargen`, `glorad`, `maxtp`, `rain`.\n",
    "\n",
    "**Time Series Trend Analysis**\n",
    "   - Plot daily values using `matplotlib` to explore seasonal trends in solar generation and weather (e.g., radiation, temperature).\n",
    "   - Look for periodic patterns or anomalies across the year.\n",
    "\n",
    "**Correlation & Linear Relationships**\n",
    "   - Use `.corr()` and `matplotlib` to create a correlation heatmap.\n",
    "   - Generate scatter plots (e.g., `glorad` vs. `solargen`) to visually assess linear relationships.\n",
    "\n",
    "**Outlier & Distribution Inspection**\n",
    "   - Use histograms and boxplots (via `matplotlib.pyplot`) to explore distributions and detect outliers for each variable.\n",
    "\n",
    "**Initial Observations**\n",
    "   - Summarise key findings, strong predictors, and potential data quality concerns.\n",
    "   - Identify which weather variables are promising candidates for the regression model.\n",
    "\n",
    "---\n",
    "\n",
    "**Input**: `Cleaned_National_Irish_Weather_Solar_2024.csv` (daily aggregated weather and solar generation)  \n",
    "**Output**: Graphs, correlations, and insights to guide feature selection for modeling in the next notebook."
   ]
  },
  {
   "cell_type": "markdown",
   "id": "d51e0f49",
   "metadata": {},
   "source": [
    "### Step 1: Add necessary libraries for EDA and Load Cleaned_National_Irish_Weather_Solar_2024.csv\n",
    "- numpy, pandas, matplotlib, statsmodels\n",
    "- Load clean dataset + view info"
   ]
  },
  {
   "cell_type": "code",
   "execution_count": null,
   "id": "c46fa19a",
   "metadata": {},
   "outputs": [],
   "source": [
    "# Standard Libraries\n",
    "import numpy as np\n",
    "import pandas as pd\n",
    "import matplotlib.pyplot as plt\n",
    "\n",
    "# Statsmodels (for statistical analysis)\n",
    "import statsmodels.api as sm\n",
    "from statsmodels.stats.outliers_influence import variance_inflation_factor as VIF\n",
    "from statsmodels.stats.anova import anova_lm\n"
   ]
  },
  {
   "cell_type": "code",
   "execution_count": null,
   "id": "69c98544",
   "metadata": {},
   "outputs": [
    {
     "name": "stdout",
     "output_type": "stream",
     "text": [
      "<class 'pandas.core.frame.DataFrame'>\n",
      "RangeIndex: 366 entries, 0 to 365\n",
      "Data columns (total 7 columns):\n",
      " #   Column    Non-Null Count  Dtype  \n",
      "---  ------    --------------  -----  \n",
      " 0   date      366 non-null    object \n",
      " 1   rain      366 non-null    float64\n",
      " 2   maxtp     366 non-null    float64\n",
      " 3   mintp     366 non-null    float64\n",
      " 4   cbl       366 non-null    float64\n",
      " 5   glorad    366 non-null    float64\n",
      " 6   solargen  366 non-null    float64\n",
      "dtypes: float64(6), object(1)\n",
      "memory usage: 20.1+ KB\n"
     ]
    }
   ],
   "source": [
    "# Load Cleaned Data and view head\n",
    "file_path = \"../Cleaned Data/Cleaned_National_Irish_Weather_Solar_2024.csv\"\n",
    "df = pd.read_csv(file_path)\n",
    "\n",
    "df.head()"
   ]
  }
 ],
 "metadata": {
  "kernelspec": {
   "display_name": "Python (solarcast-venv)",
   "language": "python",
   "name": "solarcast-venv"
  },
  "language_info": {
   "codemirror_mode": {
    "name": "ipython",
    "version": 3
   },
   "file_extension": ".py",
   "mimetype": "text/x-python",
   "name": "python",
   "nbconvert_exporter": "python",
   "pygments_lexer": "ipython3",
   "version": "3.13.5"
  }
 },
 "nbformat": 4,
 "nbformat_minor": 5
}
