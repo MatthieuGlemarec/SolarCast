{
 "cells": [
  {
   "cell_type": "markdown",
   "id": "9dc7fca3",
   "metadata": {},
   "source": [
    "# 02 - Exploratory Data Analysis (EDA)\n",
    "\n",
    "### Objective\n",
    "This notebook explores the cleaned and merged dataset containing daily weather parameters and corresponding solar energy generation for Ireland in 2024.  \n",
    "The goal is to understand the data's structure, identify trends and patterns, and uncover relationships between variables that can inform modeling strategy.\n",
    "\n",
    "---\n",
    "\n",
    "### Key Steps\n",
    "\n",
    "**Dataset Overview**\n",
    "   - Use `pandas` to inspect data shape, column types, missing values, and summary statistics.\n",
    "   - Examine basic distributions of key variables like `solargen`, `glorad`, `maxtp`, `rain`.\n",
    "\n",
    "**Time Series Trend Analysis**\n",
    "   - Plot daily values using `matplotlib` to explore seasonal trends in solar generation and weather (e.g., radiation, temperature).\n",
    "   - Look for periodic patterns or anomalies across the year.\n",
    "\n",
    "**Correlation & Linear Relationships**\n",
    "   - Use `.corr()` and `matplotlib` to create a correlation heatmap.\n",
    "   - Generate scatter plots (e.g., `glorad` vs. `solargen`) to visually assess linear relationships.\n",
    "\n",
    "**Outlier & Distribution Inspection**\n",
    "   - Use histograms and boxplots (via `matplotlib.pyplot`) to explore distributions and detect outliers for each variable.\n",
    "\n",
    "**Initial Observations**\n",
    "   - Summarise key findings, strong predictors, and potential data quality concerns.\n",
    "   - Identify which weather variables are promising candidates for the regression model.\n",
    "\n",
    "---\n",
    "\n",
    "**Input**: `Cleaned_National_Irish_Weather_Solar_2024.csv` (daily aggregated weather and solar generation)  \n",
    "**Output**: Graphs, correlations, and insights to guide feature selection for modeling in the next notebook."
   ]
  },
  {
   "cell_type": "markdown",
   "id": "d51e0f49",
   "metadata": {},
   "source": [
    "## 01: Add necessary libraries for EDA and Load Cleaned_National_Irish_Weather_Solar_2024.csv\n",
    "- numpy, pandas, matplotlib, statsmodels\n",
    "- Load clean dataset + view info"
   ]
  },
  {
   "cell_type": "code",
   "execution_count": 9,
   "id": "c46fa19a",
   "metadata": {},
   "outputs": [],
   "source": [
    "# Standard Libraries\n",
    "import numpy as np\n",
    "import pandas as pd\n",
    "import matplotlib.pyplot as plt\n",
    "import os\n",
    "\n",
    "# Statsmodels (for statistical analysis)\n",
    "import statsmodels.api as sm\n",
    "from statsmodels.stats.outliers_influence import variance_inflation_factor as VIF\n",
    "from statsmodels.stats.anova import anova_lm\n"
   ]
  },
  {
   "cell_type": "code",
   "execution_count": 4,
   "id": "69c98544",
   "metadata": {},
   "outputs": [
    {
     "data": {
      "text/html": [
       "<div>\n",
       "<style scoped>\n",
       "    .dataframe tbody tr th:only-of-type {\n",
       "        vertical-align: middle;\n",
       "    }\n",
       "\n",
       "    .dataframe tbody tr th {\n",
       "        vertical-align: top;\n",
       "    }\n",
       "\n",
       "    .dataframe thead th {\n",
       "        text-align: right;\n",
       "    }\n",
       "</style>\n",
       "<table border=\"1\" class=\"dataframe\">\n",
       "  <thead>\n",
       "    <tr style=\"text-align: right;\">\n",
       "      <th></th>\n",
       "      <th>date</th>\n",
       "      <th>rain</th>\n",
       "      <th>maxtp</th>\n",
       "      <th>mintp</th>\n",
       "      <th>cbl</th>\n",
       "      <th>glorad</th>\n",
       "      <th>solargen</th>\n",
       "    </tr>\n",
       "  </thead>\n",
       "  <tbody>\n",
       "    <tr>\n",
       "      <th>0</th>\n",
       "      <td>1/01/2024</td>\n",
       "      <td>11.93</td>\n",
       "      <td>10.57</td>\n",
       "      <td>3.03</td>\n",
       "      <td>981.90</td>\n",
       "      <td>64.44</td>\n",
       "      <td>471.02</td>\n",
       "    </tr>\n",
       "    <tr>\n",
       "      <th>1</th>\n",
       "      <td>2/01/2024</td>\n",
       "      <td>5.77</td>\n",
       "      <td>10.22</td>\n",
       "      <td>6.53</td>\n",
       "      <td>973.32</td>\n",
       "      <td>125.44</td>\n",
       "      <td>601.80</td>\n",
       "    </tr>\n",
       "    <tr>\n",
       "      <th>2</th>\n",
       "      <td>3/01/2024</td>\n",
       "      <td>2.10</td>\n",
       "      <td>9.21</td>\n",
       "      <td>5.46</td>\n",
       "      <td>981.98</td>\n",
       "      <td>210.22</td>\n",
       "      <td>1286.11</td>\n",
       "    </tr>\n",
       "    <tr>\n",
       "      <th>3</th>\n",
       "      <td>4/01/2024</td>\n",
       "      <td>1.18</td>\n",
       "      <td>8.17</td>\n",
       "      <td>2.52</td>\n",
       "      <td>991.51</td>\n",
       "      <td>309.00</td>\n",
       "      <td>2788.48</td>\n",
       "    </tr>\n",
       "    <tr>\n",
       "      <th>4</th>\n",
       "      <td>5/01/2024</td>\n",
       "      <td>0.36</td>\n",
       "      <td>8.18</td>\n",
       "      <td>2.28</td>\n",
       "      <td>1001.11</td>\n",
       "      <td>314.89</td>\n",
       "      <td>2966.48</td>\n",
       "    </tr>\n",
       "  </tbody>\n",
       "</table>\n",
       "</div>"
      ],
      "text/plain": [
       "        date   rain  maxtp  mintp      cbl  glorad  solargen\n",
       "0  1/01/2024  11.93  10.57   3.03   981.90   64.44    471.02\n",
       "1  2/01/2024   5.77  10.22   6.53   973.32  125.44    601.80\n",
       "2  3/01/2024   2.10   9.21   5.46   981.98  210.22   1286.11\n",
       "3  4/01/2024   1.18   8.17   2.52   991.51  309.00   2788.48\n",
       "4  5/01/2024   0.36   8.18   2.28  1001.11  314.89   2966.48"
      ]
     },
     "execution_count": 4,
     "metadata": {},
     "output_type": "execute_result"
    }
   ],
   "source": [
    "# Load Cleaned Data and view head\n",
    "file_path = \"../Cleaned Data/Cleaned_National_Irish_Weather_Solar_2024.csv\"\n",
    "df = pd.read_csv(file_path)\n",
    "\n",
    "df.head()"
   ]
  },
  {
   "cell_type": "code",
   "execution_count": null,
   "id": "566b06be",
   "metadata": {},
   "outputs": [],
   "source": [
    "# Check for null values\n",
    "print(df.isnull().sum())"
   ]
  },
  {
   "cell_type": "markdown",
   "id": "11c7a30b",
   "metadata": {},
   "source": [
    "## 02: Individual OLS for each predictor \n",
    "- Fit each predictor to the target variable: solargen\n",
    "- Observe results for relationship information"
   ]
  },
  {
   "cell_type": "markdown",
   "id": "a8d9fdd9",
   "metadata": {},
   "source": [
    "### Fit Regression: glorad\n",
    "- Target: solargen - Predictor: glorad"
   ]
  },
  {
   "cell_type": "code",
   "execution_count": 5,
   "id": "cc56fae4",
   "metadata": {},
   "outputs": [
    {
     "data": {
      "text/html": [
       "<table class=\"simpletable\">\n",
       "<caption>OLS Regression Results</caption>\n",
       "<tr>\n",
       "  <th>Dep. Variable:</th>        <td>solargen</td>     <th>  R-squared:         </th> <td>   0.689</td>\n",
       "</tr>\n",
       "<tr>\n",
       "  <th>Model:</th>                   <td>OLS</td>       <th>  Adj. R-squared:    </th> <td>   0.688</td>\n",
       "</tr>\n",
       "<tr>\n",
       "  <th>Method:</th>             <td>Least Squares</td>  <th>  F-statistic:       </th> <td>   806.9</td>\n",
       "</tr>\n",
       "<tr>\n",
       "  <th>Date:</th>             <td>Sat, 05 Jul 2025</td> <th>  Prob (F-statistic):</th> <td>2.24e-94</td>\n",
       "</tr>\n",
       "<tr>\n",
       "  <th>Time:</th>                 <td>15:57:53</td>     <th>  Log-Likelihood:    </th> <td> -3453.2</td>\n",
       "</tr>\n",
       "<tr>\n",
       "  <th>No. Observations:</th>      <td>   366</td>      <th>  AIC:               </th> <td>   6910.</td>\n",
       "</tr>\n",
       "<tr>\n",
       "  <th>Df Residuals:</th>          <td>   364</td>      <th>  BIC:               </th> <td>   6918.</td>\n",
       "</tr>\n",
       "<tr>\n",
       "  <th>Df Model:</th>              <td>     1</td>      <th>                     </th>     <td> </td>   \n",
       "</tr>\n",
       "<tr>\n",
       "  <th>Covariance Type:</th>      <td>nonrobust</td>    <th>                     </th>     <td> </td>   \n",
       "</tr>\n",
       "</table>\n",
       "<table class=\"simpletable\">\n",
       "<tr>\n",
       "      <td></td>         <th>coef</th>     <th>std err</th>      <th>t</th>      <th>P>|t|</th>  <th>[0.025</th>    <th>0.975]</th>  \n",
       "</tr>\n",
       "<tr>\n",
       "  <th>intercept</th> <td>  938.4239</td> <td>  271.730</td> <td>    3.454</td> <td> 0.001</td> <td>  404.066</td> <td> 1472.782</td>\n",
       "</tr>\n",
       "<tr>\n",
       "  <th>glorad</th>    <td>    6.6775</td> <td>    0.235</td> <td>   28.406</td> <td> 0.000</td> <td>    6.215</td> <td>    7.140</td>\n",
       "</tr>\n",
       "</table>\n",
       "<table class=\"simpletable\">\n",
       "<tr>\n",
       "  <th>Omnibus:</th>       <td>25.985</td> <th>  Durbin-Watson:     </th> <td>   0.769</td>\n",
       "</tr>\n",
       "<tr>\n",
       "  <th>Prob(Omnibus):</th> <td> 0.000</td> <th>  Jarque-Bera (JB):  </th> <td>  52.631</td>\n",
       "</tr>\n",
       "<tr>\n",
       "  <th>Skew:</th>          <td> 0.394</td> <th>  Prob(JB):          </th> <td>3.73e-12</td>\n",
       "</tr>\n",
       "<tr>\n",
       "  <th>Kurtosis:</th>      <td> 4.683</td> <th>  Cond. No.          </th> <td>1.98e+03</td>\n",
       "</tr>\n",
       "</table><br/><br/>Notes:<br/>[1] Standard Errors assume that the covariance matrix of the errors is correctly specified.<br/>[2] The condition number is large, 1.98e+03. This might indicate that there are<br/>strong multicollinearity or other numerical problems."
      ],
      "text/latex": [
       "\\begin{center}\n",
       "\\begin{tabular}{lclc}\n",
       "\\toprule\n",
       "\\textbf{Dep. Variable:}    &     solargen     & \\textbf{  R-squared:         } &     0.689   \\\\\n",
       "\\textbf{Model:}            &       OLS        & \\textbf{  Adj. R-squared:    } &     0.688   \\\\\n",
       "\\textbf{Method:}           &  Least Squares   & \\textbf{  F-statistic:       } &     806.9   \\\\\n",
       "\\textbf{Date:}             & Sat, 05 Jul 2025 & \\textbf{  Prob (F-statistic):} &  2.24e-94   \\\\\n",
       "\\textbf{Time:}             &     15:57:53     & \\textbf{  Log-Likelihood:    } &   -3453.2   \\\\\n",
       "\\textbf{No. Observations:} &         366      & \\textbf{  AIC:               } &     6910.   \\\\\n",
       "\\textbf{Df Residuals:}     &         364      & \\textbf{  BIC:               } &     6918.   \\\\\n",
       "\\textbf{Df Model:}         &           1      & \\textbf{                     } &             \\\\\n",
       "\\textbf{Covariance Type:}  &    nonrobust     & \\textbf{                     } &             \\\\\n",
       "\\bottomrule\n",
       "\\end{tabular}\n",
       "\\begin{tabular}{lcccccc}\n",
       "                   & \\textbf{coef} & \\textbf{std err} & \\textbf{t} & \\textbf{P$> |$t$|$} & \\textbf{[0.025} & \\textbf{0.975]}  \\\\\n",
       "\\midrule\n",
       "\\textbf{intercept} &     938.4239  &      271.730     &     3.454  &         0.001        &      404.066    &     1472.782     \\\\\n",
       "\\textbf{glorad}    &       6.6775  &        0.235     &    28.406  &         0.000        &        6.215    &        7.140     \\\\\n",
       "\\bottomrule\n",
       "\\end{tabular}\n",
       "\\begin{tabular}{lclc}\n",
       "\\textbf{Omnibus:}       & 25.985 & \\textbf{  Durbin-Watson:     } &    0.769  \\\\\n",
       "\\textbf{Prob(Omnibus):} &  0.000 & \\textbf{  Jarque-Bera (JB):  } &   52.631  \\\\\n",
       "\\textbf{Skew:}          &  0.394 & \\textbf{  Prob(JB):          } & 3.73e-12  \\\\\n",
       "\\textbf{Kurtosis:}      &  4.683 & \\textbf{  Cond. No.          } & 1.98e+03  \\\\\n",
       "\\bottomrule\n",
       "\\end{tabular}\n",
       "%\\caption{OLS Regression Results}\n",
       "\\end{center}\n",
       "\n",
       "Notes: \\newline\n",
       " [1] Standard Errors assume that the covariance matrix of the errors is correctly specified. \\newline\n",
       " [2] The condition number is large, 1.98e+03. This might indicate that there are \\newline\n",
       " strong multicollinearity or other numerical problems."
      ],
      "text/plain": [
       "<class 'statsmodels.iolib.summary.Summary'>\n",
       "\"\"\"\n",
       "                            OLS Regression Results                            \n",
       "==============================================================================\n",
       "Dep. Variable:               solargen   R-squared:                       0.689\n",
       "Model:                            OLS   Adj. R-squared:                  0.688\n",
       "Method:                 Least Squares   F-statistic:                     806.9\n",
       "Date:                Sat, 05 Jul 2025   Prob (F-statistic):           2.24e-94\n",
       "Time:                        15:57:53   Log-Likelihood:                -3453.2\n",
       "No. Observations:                 366   AIC:                             6910.\n",
       "Df Residuals:                     364   BIC:                             6918.\n",
       "Df Model:                           1                                         \n",
       "Covariance Type:            nonrobust                                         \n",
       "==============================================================================\n",
       "                 coef    std err          t      P>|t|      [0.025      0.975]\n",
       "------------------------------------------------------------------------------\n",
       "intercept    938.4239    271.730      3.454      0.001     404.066    1472.782\n",
       "glorad         6.6775      0.235     28.406      0.000       6.215       7.140\n",
       "==============================================================================\n",
       "Omnibus:                       25.985   Durbin-Watson:                   0.769\n",
       "Prob(Omnibus):                  0.000   Jarque-Bera (JB):               52.631\n",
       "Skew:                           0.394   Prob(JB):                     3.73e-12\n",
       "Kurtosis:                       4.683   Cond. No.                     1.98e+03\n",
       "==============================================================================\n",
       "\n",
       "Notes:\n",
       "[1] Standard Errors assume that the covariance matrix of the errors is correctly specified.\n",
       "[2] The condition number is large, 1.98e+03. This might indicate that there are\n",
       "strong multicollinearity or other numerical problems.\n",
       "\"\"\""
      ]
     },
     "execution_count": 5,
     "metadata": {},
     "output_type": "execute_result"
    }
   ],
   "source": [
    "# Create X intercept\n",
    "X = pd.DataFrame({'intercept': np.ones(df.shape[0]),\n",
    "'glorad': df['glorad']})\n",
    "\n",
    "# Create y intercept\n",
    "y = df['solargen']\n",
    "\n",
    "# Specify the model using X,y from above\n",
    "model = sm.OLS(y, X)\n",
    "\n",
    "# Fit the model\n",
    "results = model.fit()\n",
    "\n",
    "# View Results\n",
    "results.summary()"
   ]
  },
  {
   "cell_type": "markdown",
   "id": "2359208b",
   "metadata": {},
   "source": [
    "### Observed Result: glorad\n",
    "glorad shows a strong positive relationship with solargen (R² = 0.689, p < 0.001)\n",
    "R² (0.689) indicates it explains nearly 69% of the variation in solar generation."
   ]
  },
  {
   "cell_type": "markdown",
   "id": "dfd402c6",
   "metadata": {},
   "source": [
    "### Fit Regression: cbl\n",
    "Target: solargen - Predictor: cbl"
   ]
  },
  {
   "cell_type": "code",
   "execution_count": null,
   "id": "2f16f7c6",
   "metadata": {},
   "outputs": [],
   "source": [
    "# Create X intercept\n",
    "X = pd.DataFrame({'intercept': np.ones(df.shape[0]),\n",
    "'cbl': df['cbl']})\n",
    "\n",
    "# Create y intercept\n",
    "y = df['solargen']\n",
    "\n",
    "# Specify the model using X,y from above\n",
    "model = sm.OLS(y, X)\n",
    "\n",
    "# Fit the model\n",
    "results = model.fit()\n",
    "\n",
    "# View Results\n",
    "results.summary()"
   ]
  },
  {
   "cell_type": "markdown",
   "id": "23af21f0",
   "metadata": {},
   "source": [
    "### Observed Result: cbl\n",
    "cbl shows a weak positive relationship with solargen (R² = 0.006, p = 0.140)  \n",
    "Low R² (0.006) indicates it explains less than 1% of the variation in solar generation."
   ]
  },
  {
   "cell_type": "markdown",
   "id": "8ea1e74b",
   "metadata": {},
   "source": [
    "### Fit Regression: mintp\n",
    "Target: solargen - Predictor: mintp"
   ]
  },
  {
   "cell_type": "code",
   "execution_count": null,
   "id": "3016e5ea",
   "metadata": {},
   "outputs": [],
   "source": [
    "# Create X intercept\n",
    "X = pd.DataFrame({'intercept': np.ones(df.shape[0]),\n",
    "'mintp': df['mintp']})\n",
    "\n",
    "# Create y intercept\n",
    "y = df['solargen']\n",
    "\n",
    "# Specify the model using X,y from above\n",
    "model = sm.OLS(y, X)\n",
    "\n",
    "# Fit the model\n",
    "results = model.fit()\n",
    "\n",
    "# View Results\n",
    "results.summary()"
   ]
  },
  {
   "cell_type": "markdown",
   "id": "fc60893b",
   "metadata": {},
   "source": [
    "### Observed Result: mintp\n",
    "mintp shows a statistically significant positive relationship with solargen (p < 0.001)  \n",
    "Low R² (0.145) indicates it explains only a small portion of the variation.mintp shows a statistically significant positive relationship "
   ]
  },
  {
   "cell_type": "markdown",
   "id": "a0f59684",
   "metadata": {},
   "source": [
    "### Fit Regression: maxtp\n",
    "Target: solargen - Predictor: maxtp"
   ]
  },
  {
   "cell_type": "code",
   "execution_count": null,
   "id": "b2bf0a51",
   "metadata": {},
   "outputs": [],
   "source": [
    "# Create X intercept\n",
    "X = pd.DataFrame({'intercept': np.ones(df.shape[0]),\n",
    "'maxtp': df['maxtp']})\n",
    "\n",
    "# Create y intercept\n",
    "y = df['solargen']\n",
    "\n",
    "# Specify the model using X,y from above\n",
    "model = sm.OLS(y, X)\n",
    "\n",
    "# Fit the model\n",
    "results = model.fit()\n",
    "\n",
    "# View Results\n",
    "results.summary()"
   ]
  },
  {
   "cell_type": "markdown",
   "id": "f7cfec2a",
   "metadata": {},
   "source": [
    "### Observed Result: maxtp\n",
    "maxtp shows a strong positive relationship with solargen (R² = 0.495, p < 0.001)  \n",
    "R² (0.495) indicates it explains nearly 50% of the variation in solar generation."
   ]
  },
  {
   "cell_type": "markdown",
   "id": "9ab42f42",
   "metadata": {},
   "source": [
    "### Fit Regression: rain\n",
    "Target: solargen - Predictor: rain"
   ]
  },
  {
   "cell_type": "code",
   "execution_count": null,
   "id": "bc07dfda",
   "metadata": {},
   "outputs": [],
   "source": [
    "# Create X intercept\n",
    "X = pd.DataFrame({'intercept': np.ones(df.shape[0]),\n",
    "'rain': df['rain']})\n",
    "\n",
    "# Create y intercept\n",
    "y = df['solargen']\n",
    "\n",
    "# Specify the model using X,y from above\n",
    "model = sm.OLS(y, X)\n",
    "\n",
    "# Fit the model\n",
    "results = model.fit()\n",
    "\n",
    "# View Results\n",
    "results.summary()"
   ]
  },
  {
   "cell_type": "markdown",
   "id": "b4536aa9",
   "metadata": {},
   "source": [
    "### Observed Result: rain\n",
    "rain shows a strong negative relationship with solargen (R² = 0.094, p < 0.001)  \n",
    "R² (0.094) indicates it explains just under 10% of the variation in solar generation."
   ]
  },
  {
   "cell_type": "markdown",
   "id": "acc4abd1",
   "metadata": {},
   "source": [
    "## 03: Multiple OLS\n",
    "1. Fit all predictors to the target variable: solargen\n",
    "2. Fit only strongly correlated predictors to the target variable: solargen\n",
    "- Observe results\n",
    "- Use results to inform feature selection"
   ]
  },
  {
   "cell_type": "markdown",
   "id": "82cf81c6",
   "metadata": {},
   "source": [
    "### Fit Regression: rain, maxtp, mintp,\tcbl, glorad (all predictors)\n",
    "Target: solargen - Predictor: all"
   ]
  },
  {
   "cell_type": "code",
   "execution_count": 6,
   "id": "e3c570be",
   "metadata": {},
   "outputs": [
    {
     "data": {
      "text/html": [
       "<table class=\"simpletable\">\n",
       "<caption>OLS Regression Results</caption>\n",
       "<tr>\n",
       "  <th>Dep. Variable:</th>        <td>solargen</td>     <th>  R-squared:         </th> <td>   0.757</td> \n",
       "</tr>\n",
       "<tr>\n",
       "  <th>Model:</th>                   <td>OLS</td>       <th>  Adj. R-squared:    </th> <td>   0.754</td> \n",
       "</tr>\n",
       "<tr>\n",
       "  <th>Method:</th>             <td>Least Squares</td>  <th>  F-statistic:       </th> <td>   224.7</td> \n",
       "</tr>\n",
       "<tr>\n",
       "  <th>Date:</th>             <td>Sat, 05 Jul 2025</td> <th>  Prob (F-statistic):</th> <td>2.50e-108</td>\n",
       "</tr>\n",
       "<tr>\n",
       "  <th>Time:</th>                 <td>15:58:02</td>     <th>  Log-Likelihood:    </th> <td> -3407.9</td> \n",
       "</tr>\n",
       "<tr>\n",
       "  <th>No. Observations:</th>      <td>   366</td>      <th>  AIC:               </th> <td>   6828.</td> \n",
       "</tr>\n",
       "<tr>\n",
       "  <th>Df Residuals:</th>          <td>   360</td>      <th>  BIC:               </th> <td>   6851.</td> \n",
       "</tr>\n",
       "<tr>\n",
       "  <th>Df Model:</th>              <td>     5</td>      <th>                     </th>     <td> </td>    \n",
       "</tr>\n",
       "<tr>\n",
       "  <th>Covariance Type:</th>      <td>nonrobust</td>    <th>                     </th>     <td> </td>    \n",
       "</tr>\n",
       "</table>\n",
       "<table class=\"simpletable\">\n",
       "<tr>\n",
       "     <td></td>       <th>coef</th>     <th>std err</th>      <th>t</th>      <th>P>|t|</th>  <th>[0.025</th>    <th>0.975]</th>  \n",
       "</tr>\n",
       "<tr>\n",
       "  <th>const</th>  <td> 1.369e+04</td> <td>  1.4e+04</td> <td>    0.979</td> <td> 0.328</td> <td>-1.38e+04</td> <td> 4.12e+04</td>\n",
       "</tr>\n",
       "<tr>\n",
       "  <th>rain</th>   <td> -206.5402</td> <td>   48.737</td> <td>   -4.238</td> <td> 0.000</td> <td> -302.386</td> <td> -110.695</td>\n",
       "</tr>\n",
       "<tr>\n",
       "  <th>maxtp</th>  <td>  731.1189</td> <td>   87.610</td> <td>    8.345</td> <td> 0.000</td> <td>  558.827</td> <td>  903.411</td>\n",
       "</tr>\n",
       "<tr>\n",
       "  <th>mintp</th>  <td> -342.0849</td> <td>   74.220</td> <td>   -4.609</td> <td> 0.000</td> <td> -488.044</td> <td> -196.125</td>\n",
       "</tr>\n",
       "<tr>\n",
       "  <th>cbl</th>    <td>  -17.2574</td> <td>   13.913</td> <td>   -1.240</td> <td> 0.216</td> <td>  -44.618</td> <td>   10.103</td>\n",
       "</tr>\n",
       "<tr>\n",
       "  <th>glorad</th> <td>    4.0216</td> <td>    0.345</td> <td>   11.673</td> <td> 0.000</td> <td>    3.344</td> <td>    4.699</td>\n",
       "</tr>\n",
       "</table>\n",
       "<table class=\"simpletable\">\n",
       "<tr>\n",
       "  <th>Omnibus:</th>       <td>13.772</td> <th>  Durbin-Watson:     </th> <td>   1.015</td>\n",
       "</tr>\n",
       "<tr>\n",
       "  <th>Prob(Omnibus):</th> <td> 0.001</td> <th>  Jarque-Bera (JB):  </th> <td>  18.181</td>\n",
       "</tr>\n",
       "<tr>\n",
       "  <th>Skew:</th>          <td> 0.326</td> <th>  Prob(JB):          </th> <td>0.000113</td>\n",
       "</tr>\n",
       "<tr>\n",
       "  <th>Kurtosis:</th>      <td> 3.876</td> <th>  Cond. No.          </th> <td>1.45e+05</td>\n",
       "</tr>\n",
       "</table><br/><br/>Notes:<br/>[1] Standard Errors assume that the covariance matrix of the errors is correctly specified.<br/>[2] The condition number is large, 1.45e+05. This might indicate that there are<br/>strong multicollinearity or other numerical problems."
      ],
      "text/latex": [
       "\\begin{center}\n",
       "\\begin{tabular}{lclc}\n",
       "\\toprule\n",
       "\\textbf{Dep. Variable:}    &     solargen     & \\textbf{  R-squared:         } &     0.757   \\\\\n",
       "\\textbf{Model:}            &       OLS        & \\textbf{  Adj. R-squared:    } &     0.754   \\\\\n",
       "\\textbf{Method:}           &  Least Squares   & \\textbf{  F-statistic:       } &     224.7   \\\\\n",
       "\\textbf{Date:}             & Sat, 05 Jul 2025 & \\textbf{  Prob (F-statistic):} & 2.50e-108   \\\\\n",
       "\\textbf{Time:}             &     15:58:02     & \\textbf{  Log-Likelihood:    } &   -3407.9   \\\\\n",
       "\\textbf{No. Observations:} &         366      & \\textbf{  AIC:               } &     6828.   \\\\\n",
       "\\textbf{Df Residuals:}     &         360      & \\textbf{  BIC:               } &     6851.   \\\\\n",
       "\\textbf{Df Model:}         &           5      & \\textbf{                     } &             \\\\\n",
       "\\textbf{Covariance Type:}  &    nonrobust     & \\textbf{                     } &             \\\\\n",
       "\\bottomrule\n",
       "\\end{tabular}\n",
       "\\begin{tabular}{lcccccc}\n",
       "                & \\textbf{coef} & \\textbf{std err} & \\textbf{t} & \\textbf{P$> |$t$|$} & \\textbf{[0.025} & \\textbf{0.975]}  \\\\\n",
       "\\midrule\n",
       "\\textbf{const}  &    1.369e+04  &      1.4e+04     &     0.979  &         0.328        &    -1.38e+04    &     4.12e+04     \\\\\n",
       "\\textbf{rain}   &    -206.5402  &       48.737     &    -4.238  &         0.000        &     -302.386    &     -110.695     \\\\\n",
       "\\textbf{maxtp}  &     731.1189  &       87.610     &     8.345  &         0.000        &      558.827    &      903.411     \\\\\n",
       "\\textbf{mintp}  &    -342.0849  &       74.220     &    -4.609  &         0.000        &     -488.044    &     -196.125     \\\\\n",
       "\\textbf{cbl}    &     -17.2574  &       13.913     &    -1.240  &         0.216        &      -44.618    &       10.103     \\\\\n",
       "\\textbf{glorad} &       4.0216  &        0.345     &    11.673  &         0.000        &        3.344    &        4.699     \\\\\n",
       "\\bottomrule\n",
       "\\end{tabular}\n",
       "\\begin{tabular}{lclc}\n",
       "\\textbf{Omnibus:}       & 13.772 & \\textbf{  Durbin-Watson:     } &    1.015  \\\\\n",
       "\\textbf{Prob(Omnibus):} &  0.001 & \\textbf{  Jarque-Bera (JB):  } &   18.181  \\\\\n",
       "\\textbf{Skew:}          &  0.326 & \\textbf{  Prob(JB):          } & 0.000113  \\\\\n",
       "\\textbf{Kurtosis:}      &  3.876 & \\textbf{  Cond. No.          } & 1.45e+05  \\\\\n",
       "\\bottomrule\n",
       "\\end{tabular}\n",
       "%\\caption{OLS Regression Results}\n",
       "\\end{center}\n",
       "\n",
       "Notes: \\newline\n",
       " [1] Standard Errors assume that the covariance matrix of the errors is correctly specified. \\newline\n",
       " [2] The condition number is large, 1.45e+05. This might indicate that there are \\newline\n",
       " strong multicollinearity or other numerical problems."
      ],
      "text/plain": [
       "<class 'statsmodels.iolib.summary.Summary'>\n",
       "\"\"\"\n",
       "                            OLS Regression Results                            \n",
       "==============================================================================\n",
       "Dep. Variable:               solargen   R-squared:                       0.757\n",
       "Model:                            OLS   Adj. R-squared:                  0.754\n",
       "Method:                 Least Squares   F-statistic:                     224.7\n",
       "Date:                Sat, 05 Jul 2025   Prob (F-statistic):          2.50e-108\n",
       "Time:                        15:58:02   Log-Likelihood:                -3407.9\n",
       "No. Observations:                 366   AIC:                             6828.\n",
       "Df Residuals:                     360   BIC:                             6851.\n",
       "Df Model:                           5                                         \n",
       "Covariance Type:            nonrobust                                         \n",
       "==============================================================================\n",
       "                 coef    std err          t      P>|t|      [0.025      0.975]\n",
       "------------------------------------------------------------------------------\n",
       "const       1.369e+04    1.4e+04      0.979      0.328   -1.38e+04    4.12e+04\n",
       "rain        -206.5402     48.737     -4.238      0.000    -302.386    -110.695\n",
       "maxtp        731.1189     87.610      8.345      0.000     558.827     903.411\n",
       "mintp       -342.0849     74.220     -4.609      0.000    -488.044    -196.125\n",
       "cbl          -17.2574     13.913     -1.240      0.216     -44.618      10.103\n",
       "glorad         4.0216      0.345     11.673      0.000       3.344       4.699\n",
       "==============================================================================\n",
       "Omnibus:                       13.772   Durbin-Watson:                   1.015\n",
       "Prob(Omnibus):                  0.001   Jarque-Bera (JB):               18.181\n",
       "Skew:                           0.326   Prob(JB):                     0.000113\n",
       "Kurtosis:                       3.876   Cond. No.                     1.45e+05\n",
       "==============================================================================\n",
       "\n",
       "Notes:\n",
       "[1] Standard Errors assume that the covariance matrix of the errors is correctly specified.\n",
       "[2] The condition number is large, 1.45e+05. This might indicate that there are\n",
       "strong multicollinearity or other numerical problems.\n",
       "\"\"\""
      ]
     },
     "execution_count": 6,
     "metadata": {},
     "output_type": "execute_result"
    }
   ],
   "source": [
    "import pandas as pd\n",
    "import statsmodels.api as sm\n",
    "\n",
    "# Define predictors and response\n",
    "X = df[['rain', 'maxtp', 'mintp', 'cbl', 'glorad']]  # All 5 predictors\n",
    "# Add x intercept\n",
    "X = sm.add_constant(X)\n",
    "# define y  \n",
    "y = df['solargen']\n",
    "\n",
    "# Fit model\n",
    "model_full = sm.OLS(y, X)\n",
    "results_full = model_full.fit()\n",
    "\n",
    "# View summary\n",
    "results_full.summary()"
   ]
  },
  {
   "cell_type": "markdown",
   "id": "7912527d",
   "metadata": {},
   "source": [
    "## Observed Result: rain, maxtp, mintp,\tcbl, glorad (all predictors)\n",
    "Strong linear relationship observed between predictors and solar generation (R² = 0.757, p < 0.001).  \n",
    "This model explains approximately 76% of the variation in solar generation.  \n",
    "maxtp, mintp, glorad, and rain are all statistically significant predictors (p < 0.001).  \n",
    "cbl is not statistically significant (p = 0.216), suggesting it has limited explanatory power.  \n",
    "High F-statistic (224.7) and very low p-value (p < 0.001) indicate the model fits the data well overall.\n",
    "\n",
    "Next step: Remove cbl and refit the model to assess impact on adjusted R² and model fit."
   ]
  },
  {
   "cell_type": "code",
   "execution_count": 7,
   "id": "5471f6e0",
   "metadata": {},
   "outputs": [
    {
     "data": {
      "text/html": [
       "<table class=\"simpletable\">\n",
       "<caption>OLS Regression Results</caption>\n",
       "<tr>\n",
       "  <th>Dep. Variable:</th>        <td>solargen</td>     <th>  R-squared:         </th> <td>   0.756</td> \n",
       "</tr>\n",
       "<tr>\n",
       "  <th>Model:</th>                   <td>OLS</td>       <th>  Adj. R-squared:    </th> <td>   0.754</td> \n",
       "</tr>\n",
       "<tr>\n",
       "  <th>Method:</th>             <td>Least Squares</td>  <th>  F-statistic:       </th> <td>   280.0</td> \n",
       "</tr>\n",
       "<tr>\n",
       "  <th>Date:</th>             <td>Sat, 05 Jul 2025</td> <th>  Prob (F-statistic):</th> <td>3.01e-109</td>\n",
       "</tr>\n",
       "<tr>\n",
       "  <th>Time:</th>                 <td>15:58:06</td>     <th>  Log-Likelihood:    </th> <td> -3408.7</td> \n",
       "</tr>\n",
       "<tr>\n",
       "  <th>No. Observations:</th>      <td>   366</td>      <th>  AIC:               </th> <td>   6827.</td> \n",
       "</tr>\n",
       "<tr>\n",
       "  <th>Df Residuals:</th>          <td>   361</td>      <th>  BIC:               </th> <td>   6847.</td> \n",
       "</tr>\n",
       "<tr>\n",
       "  <th>Df Model:</th>              <td>     4</td>      <th>                     </th>     <td> </td>    \n",
       "</tr>\n",
       "<tr>\n",
       "  <th>Covariance Type:</th>      <td>nonrobust</td>    <th>                     </th>     <td> </td>    \n",
       "</tr>\n",
       "</table>\n",
       "<table class=\"simpletable\">\n",
       "<tr>\n",
       "     <td></td>       <th>coef</th>     <th>std err</th>      <th>t</th>      <th>P>|t|</th>  <th>[0.025</th>    <th>0.975]</th>  \n",
       "</tr>\n",
       "<tr>\n",
       "  <th>const</th>  <td>-3643.9183</td> <td>  615.810</td> <td>   -5.917</td> <td> 0.000</td> <td>-4854.944</td> <td>-2432.893</td>\n",
       "</tr>\n",
       "<tr>\n",
       "  <th>rain</th>   <td> -173.6311</td> <td>   40.914</td> <td>   -4.244</td> <td> 0.000</td> <td> -254.090</td> <td>  -93.172</td>\n",
       "</tr>\n",
       "<tr>\n",
       "  <th>maxtp</th>  <td>  712.7087</td> <td>   86.408</td> <td>    8.248</td> <td> 0.000</td> <td>  542.782</td> <td>  882.635</td>\n",
       "</tr>\n",
       "<tr>\n",
       "  <th>mintp</th>  <td> -333.4473</td> <td>   73.948</td> <td>   -4.509</td> <td> 0.000</td> <td> -478.870</td> <td> -188.025</td>\n",
       "</tr>\n",
       "<tr>\n",
       "  <th>glorad</th> <td>    4.1219</td> <td>    0.335</td> <td>   12.299</td> <td> 0.000</td> <td>    3.463</td> <td>    4.781</td>\n",
       "</tr>\n",
       "</table>\n",
       "<table class=\"simpletable\">\n",
       "<tr>\n",
       "  <th>Omnibus:</th>       <td>13.775</td> <th>  Durbin-Watson:     </th> <td>   1.000</td>\n",
       "</tr>\n",
       "<tr>\n",
       "  <th>Prob(Omnibus):</th> <td> 0.001</td> <th>  Jarque-Bera (JB):  </th> <td>  19.059</td>\n",
       "</tr>\n",
       "<tr>\n",
       "  <th>Skew:</th>          <td> 0.309</td> <th>  Prob(JB):          </th> <td>7.27e-05</td>\n",
       "</tr>\n",
       "<tr>\n",
       "  <th>Kurtosis:</th>      <td> 3.932</td> <th>  Cond. No.          </th> <td>5.09e+03</td>\n",
       "</tr>\n",
       "</table><br/><br/>Notes:<br/>[1] Standard Errors assume that the covariance matrix of the errors is correctly specified.<br/>[2] The condition number is large, 5.09e+03. This might indicate that there are<br/>strong multicollinearity or other numerical problems."
      ],
      "text/latex": [
       "\\begin{center}\n",
       "\\begin{tabular}{lclc}\n",
       "\\toprule\n",
       "\\textbf{Dep. Variable:}    &     solargen     & \\textbf{  R-squared:         } &     0.756   \\\\\n",
       "\\textbf{Model:}            &       OLS        & \\textbf{  Adj. R-squared:    } &     0.754   \\\\\n",
       "\\textbf{Method:}           &  Least Squares   & \\textbf{  F-statistic:       } &     280.0   \\\\\n",
       "\\textbf{Date:}             & Sat, 05 Jul 2025 & \\textbf{  Prob (F-statistic):} & 3.01e-109   \\\\\n",
       "\\textbf{Time:}             &     15:58:06     & \\textbf{  Log-Likelihood:    } &   -3408.7   \\\\\n",
       "\\textbf{No. Observations:} &         366      & \\textbf{  AIC:               } &     6827.   \\\\\n",
       "\\textbf{Df Residuals:}     &         361      & \\textbf{  BIC:               } &     6847.   \\\\\n",
       "\\textbf{Df Model:}         &           4      & \\textbf{                     } &             \\\\\n",
       "\\textbf{Covariance Type:}  &    nonrobust     & \\textbf{                     } &             \\\\\n",
       "\\bottomrule\n",
       "\\end{tabular}\n",
       "\\begin{tabular}{lcccccc}\n",
       "                & \\textbf{coef} & \\textbf{std err} & \\textbf{t} & \\textbf{P$> |$t$|$} & \\textbf{[0.025} & \\textbf{0.975]}  \\\\\n",
       "\\midrule\n",
       "\\textbf{const}  &   -3643.9183  &      615.810     &    -5.917  &         0.000        &    -4854.944    &    -2432.893     \\\\\n",
       "\\textbf{rain}   &    -173.6311  &       40.914     &    -4.244  &         0.000        &     -254.090    &      -93.172     \\\\\n",
       "\\textbf{maxtp}  &     712.7087  &       86.408     &     8.248  &         0.000        &      542.782    &      882.635     \\\\\n",
       "\\textbf{mintp}  &    -333.4473  &       73.948     &    -4.509  &         0.000        &     -478.870    &     -188.025     \\\\\n",
       "\\textbf{glorad} &       4.1219  &        0.335     &    12.299  &         0.000        &        3.463    &        4.781     \\\\\n",
       "\\bottomrule\n",
       "\\end{tabular}\n",
       "\\begin{tabular}{lclc}\n",
       "\\textbf{Omnibus:}       & 13.775 & \\textbf{  Durbin-Watson:     } &    1.000  \\\\\n",
       "\\textbf{Prob(Omnibus):} &  0.001 & \\textbf{  Jarque-Bera (JB):  } &   19.059  \\\\\n",
       "\\textbf{Skew:}          &  0.309 & \\textbf{  Prob(JB):          } & 7.27e-05  \\\\\n",
       "\\textbf{Kurtosis:}      &  3.932 & \\textbf{  Cond. No.          } & 5.09e+03  \\\\\n",
       "\\bottomrule\n",
       "\\end{tabular}\n",
       "%\\caption{OLS Regression Results}\n",
       "\\end{center}\n",
       "\n",
       "Notes: \\newline\n",
       " [1] Standard Errors assume that the covariance matrix of the errors is correctly specified. \\newline\n",
       " [2] The condition number is large, 5.09e+03. This might indicate that there are \\newline\n",
       " strong multicollinearity or other numerical problems."
      ],
      "text/plain": [
       "<class 'statsmodels.iolib.summary.Summary'>\n",
       "\"\"\"\n",
       "                            OLS Regression Results                            \n",
       "==============================================================================\n",
       "Dep. Variable:               solargen   R-squared:                       0.756\n",
       "Model:                            OLS   Adj. R-squared:                  0.754\n",
       "Method:                 Least Squares   F-statistic:                     280.0\n",
       "Date:                Sat, 05 Jul 2025   Prob (F-statistic):          3.01e-109\n",
       "Time:                        15:58:06   Log-Likelihood:                -3408.7\n",
       "No. Observations:                 366   AIC:                             6827.\n",
       "Df Residuals:                     361   BIC:                             6847.\n",
       "Df Model:                           4                                         \n",
       "Covariance Type:            nonrobust                                         \n",
       "==============================================================================\n",
       "                 coef    std err          t      P>|t|      [0.025      0.975]\n",
       "------------------------------------------------------------------------------\n",
       "const      -3643.9183    615.810     -5.917      0.000   -4854.944   -2432.893\n",
       "rain        -173.6311     40.914     -4.244      0.000    -254.090     -93.172\n",
       "maxtp        712.7087     86.408      8.248      0.000     542.782     882.635\n",
       "mintp       -333.4473     73.948     -4.509      0.000    -478.870    -188.025\n",
       "glorad         4.1219      0.335     12.299      0.000       3.463       4.781\n",
       "==============================================================================\n",
       "Omnibus:                       13.775   Durbin-Watson:                   1.000\n",
       "Prob(Omnibus):                  0.001   Jarque-Bera (JB):               19.059\n",
       "Skew:                           0.309   Prob(JB):                     7.27e-05\n",
       "Kurtosis:                       3.932   Cond. No.                     5.09e+03\n",
       "==============================================================================\n",
       "\n",
       "Notes:\n",
       "[1] Standard Errors assume that the covariance matrix of the errors is correctly specified.\n",
       "[2] The condition number is large, 5.09e+03. This might indicate that there are\n",
       "strong multicollinearity or other numerical problems.\n",
       "\"\"\""
      ]
     },
     "execution_count": 7,
     "metadata": {},
     "output_type": "execute_result"
    }
   ],
   "source": [
    "# Drop 'cbl' due to weak contribution\n",
    "X_reduced = df[['rain', 'maxtp', 'mintp', 'glorad']]\n",
    "X_reduced = sm.add_constant(X_reduced)\n",
    "y = df['solargen']\n",
    "\n",
    "# fit model\n",
    "model_reduced = sm.OLS(y, X_reduced)\n",
    "results_reduced = model_reduced.fit()\n",
    "\n",
    "# View summary\n",
    "results_reduced.summary()"
   ]
  },
  {
   "cell_type": "markdown",
   "id": "aa3e9338",
   "metadata": {},
   "source": [
    "## Observed Result: rain, maxtp, mintp, glorad (Reduced predictor)  \n",
    "### (cbl dropped)\n",
    "\n",
    "Almost no loss in explanatory power compared to the full model (Adj. R² was 0.754 with all 5 predictors).  \n",
    "All remaining predictors are highly significant (p < 0.001): This confirms that cbl was not contributing meaningfully, and dropping it was appropriate.\n",
    "\n",
    "Strong overall model fit (R² = 0.756, p < 0.001) indicating the model explains ~75% of the variation in solar generation.\n",
    "\n",
    "There’s no immediate statistical reason to remove any of the remaining predictors.\n",
    "\n",
    "Next step: Create Diagnostic Plots for further analysis of reduced model."
   ]
  },
  {
   "cell_type": "markdown",
   "id": "fc396f51",
   "metadata": {},
   "source": [
    "## 04: Diagnostic Plots for Reduced Model\n",
    "- Residuals vs Fitted\n",
    "- Q-Q Plot\n",
    "- Histogram\n",
    "- VIF"
   ]
  },
  {
   "cell_type": "markdown",
   "id": "bce4913b",
   "metadata": {},
   "source": [
    "### Residuals vs Fitted\n",
    "Check linearity, equal variance"
   ]
  },
  {
   "cell_type": "code",
   "execution_count": null,
   "id": "9cd475dc",
   "metadata": {},
   "outputs": [
    {
     "data": {
      "image/png": "[encoded data removed]",
      "text/plain": [
       "<Figure size 640x480 with 1 Axes>"
      ]
     },
     "metadata": {},
     "output_type": "display_data"
    }
   ],
   "source": [
    "import matplotlib.pyplot as plt\n",
    "\n",
    "# Get predicted values from reduced model\n",
    "predicted_reduced = results_reduced.predict(X_reduced)\n",
    "\n",
    "# Calculate residuals for reduced model\n",
    "residuals_reduced = y - predicted_reduced\n",
    "\n",
    "# Plot residuals vs predicted values\n",
    "plt.scatter(predicted_reduced, residuals_reduced, alpha=0.5)\n",
    "plt.axhline(0, color='red', linestyle='--')\n",
    "plt.xlabel('Predicted Solar Generation')\n",
    "plt.ylabel('Residuals')\n",
    "plt.title('Residuals vs Predicted Values (Reduced Model)')\n",
    "\n",
    "plt.show()\n"
   ]
  },
  {
   "cell_type": "markdown",
   "id": "8356503b",
   "metadata": {},
   "source": [
    "Observation: A widening of the spread of residuals as the fitted values increase indicates non-constant variance (heteroscedasticity).  \n",
    "The above graph suggests heteroscedasticity in the model."
   ]
  },
  {
   "cell_type": "markdown",
   "id": "b8819965",
   "metadata": {},
   "source": [
    "### Q-Q Plot  \n",
    "Check normality of residuals"
   ]
  },
  {
   "cell_type": "code",
   "execution_count": null,
   "id": "988f9631",
   "metadata": {},
   "outputs": [
    {
     "data": {
      "image/png": "[encoded data removed]",
      "text/plain": [
       "<Figure size 640x480 with 1 Axes>"
      ]
     },
     "metadata": {},
     "output_type": "display_data"
    }
   ],
   "source": [
    "import scipy.stats as stats\n",
    "import matplotlib.pyplot as plt\n",
    "\n",
    "residuals = results_reduced.resid\n",
    "\n",
    "# Q-Q plot\n",
    "stats.probplot(residuals, dist=\"norm\", plot=plt)\n",
    "plt.title(\"Q-Q Plot of Residuals\")\n",
    "\n",
    "plt.show()\n"
   ]
  },
  {
   "cell_type": "markdown",
   "id": "bb71f725",
   "metadata": {},
   "source": [
    "Observation: Data points closely follow the diagonal line, tailing off slightly at the ends.  \n",
    "This indicates that the observed data is evenly distributed."
   ]
  },
  {
   "cell_type": "markdown",
   "id": "b2d45782",
   "metadata": {},
   "source": [
    "### Histogram   \n",
    "Check distribution of residuals"
   ]
  },
  {
   "cell_type": "code",
   "execution_count": null,
   "id": "4935f9fb",
   "metadata": {},
   "outputs": [
    {
     "data": {
      "image/png": "[encoded data removed]",
      "text/plain": [
       "<Figure size 640x480 with 1 Axes>"
      ]
     },
     "metadata": {},
     "output_type": "display_data"
    }
   ],
   "source": [
    "plt.hist(residuals, bins=30, edgecolor='k')\n",
    "plt.title(\"Histogram of Residuals\")\n",
    "plt.xlabel(\"Residuals\")\n",
    "plt.ylabel(\"Frequency\")\n",
    "\n",
    "\n",
    "\n",
    "plt.show()"
   ]
  },
  {
   "cell_type": "markdown",
   "id": "1d0e77c7",
   "metadata": {},
   "source": [
    "Observation: The histogram is roughly bell shaped, confirming findings from Q-Q plot.  \n",
    "This indicates the data is evenly distributed."
   ]
  },
  {
   "cell_type": "markdown",
   "id": "52283690",
   "metadata": {},
   "source": [
    "### VIF  \n",
    "Check multicollinearity of predictors"
   ]
  },
  {
   "cell_type": "code",
   "execution_count": 51,
   "id": "9321b8bd",
   "metadata": {},
   "outputs": [
    {
     "name": "stdout",
     "output_type": "stream",
     "text": [
      "  feature        VIF\n",
      "0    rain   1.671338\n",
      "1   maxtp  24.632700\n",
      "2   mintp  12.440431\n",
      "3  glorad   6.198268\n"
     ]
    }
   ],
   "source": [
    "from statsmodels.stats.outliers_influence import variance_inflation_factor\n",
    "\n",
    "# Exclude the constant when calculating VIF\n",
    "X_vif = X_reduced.drop(columns='const')\n",
    "vif_data = pd.DataFrame({\n",
    "    \"feature\": X_vif.columns,\n",
    "    \"VIF\": [variance_inflation_factor(X_vif.values, i) for i in range(X_vif.shape[1])]\n",
    "})\n",
    "print(vif_data)"
   ]
  },
  {
   "cell_type": "markdown",
   "id": "736f3594",
   "metadata": {},
   "source": [
    "Observation: Applying the interpretation guide of: VIF ≈ 1: No collinearity, VIF > 5: Potential concern, VIF > 10: Serious issue.  \n",
    "\n",
    "- glorad shows potential collinarity but remains in a safe zone (VIF 6.2).  \n",
    "\n",
    "- maxtp and mintp are likely correlated as both are temperature and show a serious issue. (VIF maxtp = 24.63, mintp = 12.44)   \n",
    "This Multicollinearity inflates standard errors and makes interpretation unstable.\n",
    "\n",
    "Next step: check correlation between maxtp and mintp\n"
   ]
  },
  {
   "cell_type": "code",
   "execution_count": 53,
   "id": "1c9f3e6c",
   "metadata": {},
   "outputs": [
    {
     "data": {
      "text/html": [
       "<div>\n",
       "<style scoped>\n",
       "    .dataframe tbody tr th:only-of-type {\n",
       "        vertical-align: middle;\n",
       "    }\n",
       "\n",
       "    .dataframe tbody tr th {\n",
       "        vertical-align: top;\n",
       "    }\n",
       "\n",
       "    .dataframe thead th {\n",
       "        text-align: right;\n",
       "    }\n",
       "</style>\n",
       "<table border=\"1\" class=\"dataframe\">\n",
       "  <thead>\n",
       "    <tr style=\"text-align: right;\">\n",
       "      <th></th>\n",
       "      <th>maxtp</th>\n",
       "      <th>mintp</th>\n",
       "    </tr>\n",
       "  </thead>\n",
       "  <tbody>\n",
       "    <tr>\n",
       "      <th>maxtp</th>\n",
       "      <td>1.000000</td>\n",
       "      <td>0.819987</td>\n",
       "    </tr>\n",
       "    <tr>\n",
       "      <th>mintp</th>\n",
       "      <td>0.819987</td>\n",
       "      <td>1.000000</td>\n",
       "    </tr>\n",
       "  </tbody>\n",
       "</table>\n",
       "</div>"
      ],
      "text/plain": [
       "          maxtp     mintp\n",
       "maxtp  1.000000  0.819987\n",
       "mintp  0.819987  1.000000"
      ]
     },
     "execution_count": 53,
     "metadata": {},
     "output_type": "execute_result"
    }
   ],
   "source": [
    "df[['maxtp', 'mintp']].corr()"
   ]
  },
  {
   "cell_type": "markdown",
   "id": "bb0cafa0",
   "metadata": {},
   "source": [
    "Observation: maxtp and mintp are clearly highly correlated.  \n",
    "\n",
    "As maxtp's R² (0.495) indicates it explains nearly 50% of the variation in solar generation.\n",
    "While mintp's R² (0.094) indicates it only explains under 10% of the variation in solar generation.\n",
    "\n",
    "mintp will be dropped from the model for this proof of concept linear regression model.  \n",
    "It may later be added back in when more complex models are fitted such as Random Forest which is not sensitive to multicollinearity.\n",
    "\n",
    "next step: Fit new model without mintp and observe results."
   ]
  },
  {
   "cell_type": "markdown",
   "id": "0d4932a8",
   "metadata": {},
   "source": [
    "## Fit OLS model (reduced2)  \n",
    "- Drop mintemp from new model as it is likely redundant  \n",
    "- Observe affect on model correlation"
   ]
  },
  {
   "cell_type": "markdown",
   "id": "9762706d",
   "metadata": {},
   "source": [
    "### Fit reduced2 model using: rain, maxtp, glorad"
   ]
  },
  {
   "cell_type": "code",
   "execution_count": null,
   "id": "6cbfe65f",
   "metadata": {},
   "outputs": [],
   "source": [
    "# Drop 'mintp' due to possible redundancy\n",
    "X_reduced2 = df[['rain', 'maxtp', 'glorad']]\n",
    "X_reduced2 = sm.add_constant(X_reduced2)\n",
    "y = df['solargen']\n",
    "\n",
    "# fit model\n",
    "model_reduced2 = sm.OLS(y, X_reduced2)\n",
    "results_reduced2 = model_reduced2.fit()\n",
    "\n",
    "# View summary\n",
    "results_reduced2.summary()"
   ]
  },
  {
   "cell_type": "markdown",
   "id": "cde94311",
   "metadata": {},
   "source": [
    "### Observe reduce2 VIF data"
   ]
  },
  {
   "cell_type": "code",
   "execution_count": 59,
   "id": "bb7230a8",
   "metadata": {},
   "outputs": [
    {
     "name": "stdout",
     "output_type": "stream",
     "text": [
      "  feature       VIF\n",
      "0    rain  1.641380\n",
      "1   maxtp  6.867613\n",
      "2  glorad  5.473113\n"
     ]
    }
   ],
   "source": [
    "from statsmodels.stats.outliers_influence import variance_inflation_factor\n",
    "\n",
    "# Exclude the constant when calculating VIF\n",
    "X_vif = X_reduced2.drop(columns='const')\n",
    "vif_data = pd.DataFrame({\n",
    "    \"feature\": X_vif.columns,\n",
    "    \"VIF\": [variance_inflation_factor(X_vif.values, i) for i in range(X_vif.shape[1])]\n",
    "})\n",
    "print(vif_data)"
   ]
  },
  {
   "cell_type": "markdown",
   "id": "c1e24387",
   "metadata": {},
   "source": [
    "Observation: The reduced2 model, excluding mintp, explains 74.3% of the variation in solar generation (R² = 0.743, p < 0.001), showing a slight decrease in explanatory power compared to the previous model of 1.3%.\n",
    "\n",
    "Dropping mintp leads to a notable improvement in multicollinearity, with VIF values for remaining predictors reduced to acceptable levels (maxtp VIF = 6.87).\n",
    "\n",
    "This trade-off between a small loss in R² and improved model stability and interpretability suggests that excluding mintp is beneficial for building a more reliable regression model.\n",
    "\n",
    "Next step: Address heteroscedasticity in the model."
   ]
  },
  {
   "cell_type": "markdown",
   "id": "e82be01d",
   "metadata": {},
   "source": [
    "## Addressing heteroscedasticity within current OLS model  \n",
    "- Apply log-transform on solargen\n",
    "- Refit model\n",
    "- Plot residual vs fitted values\n",
    "- Observe results"
   ]
  },
  {
   "cell_type": "markdown",
   "id": "eddd85bd",
   "metadata": {},
   "source": [
    "Apply log transformation on target variable: solargen  \n",
    "refit new log model"
   ]
  },
  {
   "cell_type": "code",
   "execution_count": 21,
   "id": "6cc4187b",
   "metadata": {},
   "outputs": [],
   "source": [
    "# Step 1: Log-transform the response variable\n",
    "y_log = np.log(df['solargen'])\n",
    "\n",
    "# Define predictors as before (reduced2)\n",
    "X_model_log_solargen = df[['rain', 'maxtp', 'glorad']]\n",
    "X_model_log_solargen = sm.add_constant(X_model_log_solargen)\n",
    "\n",
    "# Fit the model with log-transformed response\n",
    "model_log = sm.OLS(y_log, X_model_log_solargen)\n",
    "results_log = model_log.fit()"
   ]
  },
  {
   "cell_type": "markdown",
   "id": "c65ab4ee",
   "metadata": {},
   "source": [
    "### Plot residual vs fitted graph for model_log_solargen"
   ]
  },
  {
   "cell_type": "code",
   "execution_count": 23,
   "id": "74e3ac40",
   "metadata": {},
   "outputs": [
    {
     "data": {
      "image/png": "[encoded data removed]",
      "text/plain": [
       "<Figure size 640x480 with 1 Axes>"
      ]
     },
     "metadata": {},
     "output_type": "display_data"
    }
   ],
   "source": [
    "# Predictions and residuals\n",
    "fitted_log = results_log.fittedvalues\n",
    "residuals_log = results_log.resid\n",
    "\n",
    "# Plot residuals vs fitted values\n",
    "plt.scatter(fitted_log, residuals_log, alpha=0.5)\n",
    "plt.axhline(0, color='red', linestyle='--')\n",
    "plt.xlabel('Fitted values (log scale)')\n",
    "plt.ylabel('Residuals')\n",
    "plt.title('Residuals vs Fitted Values (Log-Transformed Response)')\n",
    "\n",
    "\n",
    "# Save the figure before plt.show\n",
    "plot_path = os.path.join(\"../Outputs/Figures/Diagnostics/Model_log_solargen\", \"residuals_vs_predicted_model_log_solargen.png\")\n",
    "plt.savefig(plot_path, dpi=300, bbox_inches='tight')\n",
    "\n",
    "plt.show()\n"
   ]
  },
  {
   "cell_type": "markdown",
   "id": "e8dbf9e4",
   "metadata": {},
   "source": [
    "Observation: \n",
    "- The log transformation of the solargen response has improved the residual distribution, addressing the heteroscedasticity observed in previous models.  \n",
    "- While some vertical spread remains, particularly in lower predicted values, the transformation results in more stable variance across the range of fitted values.\n",
    "- The model’s R² (0.708) is slightly lower than reduced2 model but the benefit of satisfying key linear regression assumptions justifies this trade-off.\n",
    "\n",
    "Note: Predictions from this model will need to be back-transformed to return to the original MWh scale for the intended forecasting task.\n"
   ]
  },
  {
   "cell_type": "markdown",
   "id": "02f8a8bc",
   "metadata": {},
   "source": [
    "### Plot Q-Q residuals graph for model_log_solargen"
   ]
  },
  {
   "cell_type": "code",
   "execution_count": 24,
   "id": "755ac561",
   "metadata": {},
   "outputs": [
    {
     "data": {
      "image/png": "[encoded data removed]",
      "text/plain": [
       "<Figure size 640x480 with 1 Axes>"
      ]
     },
     "metadata": {},
     "output_type": "display_data"
    }
   ],
   "source": [
    "import scipy.stats as stats\n",
    "import matplotlib.pyplot as plt\n",
    "\n",
    "residuals = residuals_log\n",
    "\n",
    "# Q-Q plot\n",
    "stats.probplot(residuals, dist=\"norm\", plot=plt)\n",
    "plt.title(\"Q-Q Plot of Residuals\")\n",
    "\n",
    "\n",
    "# Save the figure before plt.show\n",
    "plot_path = os.path.join(\"../Outputs/Figures/Diagnostics/Model_log_solargen\", \"Q-Q_plot_residuals_model_log_solargen.png\")\n",
    "plt.savefig(plot_path, dpi=300, bbox_inches='tight')\n",
    "plt.show()\n"
   ]
  },
  {
   "cell_type": "markdown",
   "id": "9a999f41",
   "metadata": {},
   "source": [
    "### Plot residuals histogram for model_log_solargen"
   ]
  },
  {
   "cell_type": "code",
   "execution_count": 25,
   "id": "79d56658",
   "metadata": {},
   "outputs": [
    {
     "data": {
      "image/png": "[encoded data removed]",
      "text/plain": [
       "<Figure size 640x480 with 1 Axes>"
      ]
     },
     "metadata": {},
     "output_type": "display_data"
    }
   ],
   "source": [
    "plt.hist(residuals, bins=30, edgecolor='k')\n",
    "plt.title(\"Histogram of Residuals\")\n",
    "plt.xlabel(\"Residuals\")\n",
    "plt.ylabel(\"Frequency\")\n",
    "\n",
    "# Save the figure before plt.show\n",
    "plot_path = os.path.join(\"../Outputs/Figures/Diagnostics/Model_log_solargen\", \"histogram_residuals_model_log_solargen.png\")\n",
    "plt.savefig(plot_path, dpi=300, bbox_inches='tight')\n",
    "plt.show()"
   ]
  },
  {
   "cell_type": "markdown",
   "id": "400b59e5",
   "metadata": {},
   "source": [
    "### Observations for model_log_solargen graphs\n",
    "\n",
    "- The Q-Q plot shows residuals closely following the normal line in the center, though:  \n",
    "The left tail dips slightly below the line, indicating mild left skew.  \n",
    "The right tail also dips under the line, contrasting the earlier upward deviation in reduced2\n",
    "- The histogram of residuals remains approximately bell-shaped, though:  \n",
    "It is now slightly skewed to the left, consistent with the Q-Q plot.  \n",
    "The distribution still broadly resembles normality, supporting the model's validity.\n",
    "\n",
    "- Compared to the earlier, untransformed models:  \n",
    "The residual spread is more even, suggesting an improvement in homoscedasticity.  \n",
    "The normality of residuals has slightly decreased due to the log transformation.\n",
    "\n",
    "- Trade-off:\n",
    "The log transformation improved variance stability (a more critical issue) at the expense of a minor increase in skewness.\n",
    "This trade off is acceptible and so, model_log_solargen appears to be the reasonable choice for model training\n"
   ]
  }
 ],
 "metadata": {
  "kernelspec": {
   "display_name": "Python (solarcast-venv)",
   "language": "python",
   "name": "solarcast-venv"
  },
  "language_info": {
   "codemirror_mode": {
    "name": "ipython",
    "version": 3
   },
   "file_extension": ".py",
   "mimetype": "text/x-python",
   "name": "python",
   "nbconvert_exporter": "python",
   "pygments_lexer": "ipython3",
   "version": "3.13.5"
  }
 },
 "nbformat": 4,
 "nbformat_minor": 5
}
