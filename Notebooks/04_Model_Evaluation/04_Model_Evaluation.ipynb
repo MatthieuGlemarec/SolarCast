{
 "cells": [
  {
   "cell_type": "markdown",
   "id": "4ffbe6c0",
   "metadata": {},
   "source": [
    "# 03 - XGBoost Model: Predicting Global Radiation (glorad)\n",
    "\n",
    "### Objective  \n",
    "This notebook trains an XGBoost regression model to predict daily global radiation (glorad) using available weather features: rainfall, maximum temperature (maxtp), and minimum temperature (mintp).  \n",
    "\n",
    "The model aims to serve as the first stage of a two-stage forecasting pipeline, providing an estimated radiation value that can be used to predict daily solar energy generation in the next stage.  \n",
    "\n",
    "This approach addresses a key challenge in the Irish context — the unavailability of glorad forecasts — by attempting to model glorad from weather features that are available both historically and as forecasts.\n"
   ]
  }
 ],
 "metadata": {
  "kernelspec": {
   "display_name": "Python (solarcast-venv)",
   "language": "python",
   "name": "solarcast-venv"
  },
  "language_info": {
   "name": "python",
   "version": "3.13.5"
  }
 },
 "nbformat": 4,
 "nbformat_minor": 5
}
