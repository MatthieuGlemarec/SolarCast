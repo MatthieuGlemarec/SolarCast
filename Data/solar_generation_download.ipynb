{
 "cells": [
  {
   "cell_type": "markdown",
   "id": "2586c4a7",
   "metadata": {},
   "source": [
    "# Solar Generation Data Download & Aggregation\n",
    "\n",
    "### Description\n",
    "This notebook automates the retrieval of historical 15-minute solar generation data for the Republic of Ireland from EirGrid.  \n",
    "It then aggregates the raw values into **daily totals (MWh)** and exports the results as a clean dataset for use in modelling and forecasting.  \n",
    "The final output is saved to the `/cleaned_data/` directory as an Excel file.\n"
   ]
  },
  {
   "cell_type": "markdown",
   "id": "a71e39e9",
   "metadata": {},
   "source": [
    "Clone & Run Downloader"
   ]
  },
  {
   "cell_type": "code",
   "execution_count": null,
   "id": "0f6e17d0",
   "metadata": {},
   "outputs": [],
   "source": [
    "# Clone the downloader tool (run only once)\n",
    "!git clone https://github.com/Daniel-Parke/EirGrid_Data_Download.git"
   ]
  },
  {
   "cell_type": "code",
   "execution_count": null,
   "id": "91ab7961",
   "metadata": {},
   "outputs": [
    {
     "name": "stderr",
     "output_type": "stream",
     "text": [
      "\n",
      "[notice] A new release of pip is available: 25.1.1 -> 25.2\n",
      "[notice] To update, run: python.exe -m pip install --upgrade pip\n",
      "ERROR: Could not open requirements file: [Errno 2] No such file or directory: 'EirGrid_Data_Download/requirements.txt'\n"
     ]
    }
   ],
   "source": [
    "# Pip Dependencies\n",
    "!pip install backoff\n",
    "!pip install httpx"
   ]
  },
  {
   "cell_type": "code",
   "execution_count": null,
   "id": "4c61048f",
   "metadata": {},
   "outputs": [],
   "source": []
  },
  {
   "cell_type": "code",
   "execution_count": 5,
   "id": "ac87252a",
   "metadata": {},
   "outputs": [
    {
     "name": "stderr",
     "output_type": "stream",
     "text": [
      "Traceback (most recent call last):\n",
      "  File \u001b[35m\"c:\\Users\\Matthieu\\Desktop\\Science_In_Computing\\Semester_3\\Project\\SolarCast\\Data\\EirGrid_Data_Download\\async_eirgrid_downloader.py\"\u001b[0m, line \u001b[35m7\u001b[0m, in \u001b[35m<module>\u001b[0m\n",
      "    import httpx\n",
      "\u001b[1;35mModuleNotFoundError\u001b[0m: \u001b[35mNo module named 'httpx'\u001b[0m\n"
     ]
    }
   ],
   "source": [
    "# Download all EirGrid data\n",
    "!python EirGrid_Data_Download/async_eirgrid_downloader.py \\\n",
    "    --region ROI \\\n",
    "    --start 2023-01-01 \\\n",
    "    --end 2024-12-31\n"
   ]
  }
 ],
 "metadata": {
  "kernelspec": {
   "display_name": "Python (solarcast-venv)",
   "language": "python",
   "name": "solarcast-venv"
  },
  "language_info": {
   "codemirror_mode": {
    "name": "ipython",
    "version": 3
   },
   "file_extension": ".py",
   "mimetype": "text/x-python",
   "name": "python",
   "nbconvert_exporter": "python",
   "pygments_lexer": "ipython3",
   "version": "3.13.5"
  }
 },
 "nbformat": 4,
 "nbformat_minor": 5
}
